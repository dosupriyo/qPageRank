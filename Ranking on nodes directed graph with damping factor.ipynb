{
 "cells": [
  {
   "cell_type": "markdown",
   "id": "7716aa1c",
   "metadata": {},
   "source": [
    "## Programs\n",
    "\n",
    "Here we keep the main programs to calculate qPageRank of any directed graph."
   ]
  },
  {
   "cell_type": "code",
   "execution_count": 1,
   "id": "3becffc0",
   "metadata": {},
   "outputs": [],
   "source": [
    "import math as math\n",
    "import networkx as nx\n",
    "import matplotlib.pyplot as plt\n",
    "import scipy.linalg as lin\n",
    "import numpy as np\n",
    "import sympy as sym"
   ]
  },
  {
   "cell_type": "code",
   "execution_count": 2,
   "id": "fcb6bb90",
   "metadata": {},
   "outputs": [],
   "source": [
    "pi = np.pi"
   ]
  },
  {
   "cell_type": "markdown",
   "id": "98e7bcb9",
   "metadata": {},
   "source": [
    "##### ket_vector(n, v):\n",
    "\n",
    "Let the graph has $n$ vertices. Corresponding to every vertex $v$ we assign a ket vector of dimension $n$. This is a binary $(0,1)$ vector. In $|n, v>$ of in short $|v>$ the $v$-th position is $1$ and the other posiitons are $0$.\n",
    "\n",
    "This program takes $n$ and $m$ inputs and returns the $|v>$ as output."
   ]
  },
  {
   "cell_type": "code",
   "execution_count": 3,
   "id": "1eb73fa3",
   "metadata": {},
   "outputs": [],
   "source": [
    "def ket_vector(n, v):\n",
    "    ket = [0] * n\n",
    "    ket[v] = 1\n",
    "    return np.matrix(ket).transpose()"
   ]
  },
  {
   "cell_type": "markdown",
   "id": "dd4eb453",
   "metadata": {},
   "source": [
    "##### Construction of Weyl operators\n",
    "\n",
    "Let $G$ be a graph with $n$ vertices. Let $u_0$ be a vertex with neighbors $u_1, u_2, \\dots u_d$. We can construct operators of order $n$, such that\n",
    "$$U_{u_0, u_0} = I_n,$$\n",
    "$$U_{u_0, u_1} = \\sum_{k = 0}^{n - 1} \\exp\\left(\\frac{2\\pi \\iota u_0 k}{n}\\right) |k> <k \\oplus u_1|$$\n",
    "Similarly for the edge $(u_0, u_l)$ we have \n",
    "$$U_{u_0, u_l} = \\sum_{k = 0}^{n - 1} \\exp\\left(\\frac{2\\pi \\iota u_0 k}{n}\\right) |k> <k \\oplus u_l|,$$\n",
    "where $l = 1, 2, \\dots d$.\n",
    "\n",
    "$\\oplus$ is adition modulo $n$, where $n$ is the number of nodes in the graph."
   ]
  },
  {
   "cell_type": "code",
   "execution_count": 4,
   "id": "363def68",
   "metadata": {},
   "outputs": [],
   "source": [
    "def w_coeff(n, u_0, k):\n",
    "    return(np.exp(2J*pi * u_0 * k / n))"
   ]
  },
  {
   "cell_type": "code",
   "execution_count": 5,
   "id": "1640b629",
   "metadata": {},
   "outputs": [],
   "source": [
    "def Weyl(n, u_0, u_l):\n",
    "    z = np.matrix(np.zeros((n ,n)))\n",
    "    for k in range(n):\n",
    "        w = w_coeff(n, u_0, k)\n",
    "        z = z + w * ket_vector(n, k) * ket_vector(n, (k + u_l) % n).transpose()\n",
    "    return(z)"
   ]
  },
  {
   "cell_type": "markdown",
   "id": "615215e5",
   "metadata": {},
   "source": [
    "##### Make a directed graph\n",
    "This program gives two opposite orientations on every edges of a given undirected graph. It returns a dictionary where the vertices of the graph are the keys. Corresponding to every vertex $v$ this dictionary contains a loop $(v,v)$ and outgoing edges $(v, u)$ from the vertex. "
   ]
  },
  {
   "cell_type": "code",
   "execution_count": 6,
   "id": "2dd8e3ae",
   "metadata": {},
   "outputs": [],
   "source": [
    "def make_directed(G):\n",
    "    V = list(G.nodes())\n",
    "    Vdict = {}\n",
    "    for v in V:\n",
    "        E = [(v, v)]\n",
    "        for u in G.neighbors(v):\n",
    "            E.append((v,u))\n",
    "        Vdict[v] = E\n",
    "    return(Vdict)"
   ]
  },
  {
   "cell_type": "markdown",
   "id": "3e1aa38c",
   "metadata": {},
   "source": [
    "##### Kraus ditionary\n",
    "\n",
    "Given a graph $G$ this program returns a dictionary kdict whose keys are the oriented edges in $G$. Correponding to every oriented edge it assigns a Kraus operator. If the graph $G$ is an undirected graph this program converts it to a directed graph.\n",
    "\n",
    "Notations:\n",
    "\n",
    "1. $n$ = number of nodes in $G$;\n",
    "2. Kraus_list = A list containing the Kraus operators corresponding to a given vertex $u_0$ in $G$;\n",
    "3. Kdict = A dictionary contains the list of Kraus operators corresponding to the vertices."
   ]
  },
  {
   "cell_type": "code",
   "execution_count": 17,
   "id": "9facc8a3",
   "metadata": {},
   "outputs": [],
   "source": [
    "def Kraus_dictionary(G):\n",
    "    n = G.order()\n",
    "    Kdict = {}\n",
    "    if type(G) == nx.classes.graph.Graph:\n",
    "        G = G.to_directed()\n",
    "    for u_0 in list(G.nodes()):\n",
    "        d = G.out_degree(u_0) + 1\n",
    "        Kdict[(u_0, u_0)] = np.matrix(np.eye(n))/math.sqrt(d)\n",
    "        for u_l in G.neighbors(u_0):\n",
    "            Kdict[(u_0, u_l)] = Weyl(n, u_0, u_l)/math.sqrt(d)\n",
    "    return(Kdict)"
   ]
  },
  {
   "cell_type": "markdown",
   "id": "ab700a04",
   "metadata": {},
   "source": [
    "##### Initial state\n",
    "Here we consider a scalar multiple of the identity matrices $I_n$ on every vertex which generate the initial state.\n",
    "$$\\rho_{init} = \\frac{1}{n^2} \\sum_{v \\in V(G)} I_n \\otimes |v><v|.$$\n",
    "We do not using the above equation for our calculation. We consider a list of matrices whose entries are $\\frac{I_n}{n^2}$. We update the list with time."
   ]
  },
  {
   "cell_type": "code",
   "execution_count": 8,
   "id": "1e738887",
   "metadata": {},
   "outputs": [],
   "source": [
    "def initial_state(G):\n",
    "    n = G.order()\n",
    "    I = np.matrix(np.eye(n))\n",
    "    list_of_density_matrices = [I/n**2]*n\n",
    "    return(list_of_density_matrices)"
   ]
  },
  {
   "cell_type": "markdown",
   "id": "1036e3a9",
   "metadata": {},
   "source": [
    "##### Evolve without damping factor\n",
    "\n",
    "Here $G$ is the directed graph, $IS$ is the initial state, and $T > 1$ is the time step of evolution.\n",
    "\n",
    "1. n = number of nodes in $G$\n",
    "2. V = list of nodes in $G$.\n",
    "3. M = A list of matrices. Here, we copy a initial state here. In the next step we update it.\n",
    "4. t time steps from 1 to T\n",
    "5. L It is a list that temporarily keeps the states during evaluation for a fixed value of time $t$.\n",
    "6. For every $i$ we get a vertex. After that we consider a directed edge which is coing into $u_0$. Corresponding to every directed edge there is a Kraus operator in Kdict. This operator we apply on $M[e[0]]$. Adter this operation we update L[i] terms. When all L[i] are updated it becomes the new M[i] which is used in the next step of iteration.s\n",
    "\n",
    "The list $M$ cotains the matrices corresponding to every vertices. Their trace represents the probability of getting the walker at the vertex. This program outputs the probability of getting walker at different vertices after T steps of operations. "
   ]
  },
  {
   "cell_type": "code",
   "execution_count": 10,
   "id": "1a8ff317",
   "metadata": {},
   "outputs": [],
   "source": [
    "def evolve(G, IS, T):\n",
    "    n = G.order()\n",
    "    V = list(G.nodes())\n",
    "    M = IS.copy()\n",
    "    Kdict = Kraus_dictionary(G)\n",
    "    for t in range(0, T):\n",
    "#         print(\"t = \", t)\n",
    "        L = [np.matrix(np.zeros((n , n)))]*n\n",
    "        for i in range(n):\n",
    "            u_0 = V[i]\n",
    "            E = []\n",
    "            E = list(G.in_edges(u_0)) + [(u_0, u_0)]\n",
    "            for e in E:\n",
    "                L[i] = L[i] + Kdict[e] * M[e[0]] * np.conjugate(Kdict[e]).transpose()\n",
    "        P = []\n",
    "        for i in range(n):\n",
    "            M[i] = L[i]\n",
    "            P.append(np.around(np.trace(M[i]), 4))\n",
    "#         print(P)\n",
    "    dic = {}\n",
    "    for i in range(n):\n",
    "        dic[i] = P[i]\n",
    "    return(dic)"
   ]
  },
  {
   "cell_type": "markdown",
   "id": "cd710109",
   "metadata": {},
   "source": [
    "##### Evolve with damping factor\n",
    "\n",
    "Here, we add a damping factor $\\alpha, 0 < \\alpha < 1$ during the evolution. The walker can move any vertex from any vertex with a probability $\\alpha$. Hence, we add all the matrices at different vertices with an euqal proportion and we consider this one as our damping operator. "
   ]
  },
  {
   "cell_type": "code",
   "execution_count": 9,
   "id": "4e67fc82",
   "metadata": {},
   "outputs": [],
   "source": [
    "def evolve_with_damping(G, IS, T, alpha):\n",
    "    n = G.order()\n",
    "    V = list(G.nodes())\n",
    "    M = IS.copy()\n",
    "    Kdict = Kraus_dictionary(G)\n",
    "    for t in range(0, T):\n",
    "#         print(\"t = \", t)\n",
    "        L = [np.matrix(np.zeros((n , n)))]*n\n",
    "        for i in range(n):\n",
    "            u_0 = V[i]\n",
    "            E = []\n",
    "            E = list(G.in_edges(u_0)) + [(u_0, u_0)]\n",
    "            for e in E:\n",
    "                L[i] = L[i] + Kdict[e] * M[e[0]] * np.conjugate(Kdict[e]).transpose()\n",
    "        P = []\n",
    "        Dump = sum(M)\n",
    "        for i in range(n):\n",
    "#             M[i] = L[i]\n",
    "            M[i] = alpha * L[i] + (1 - alpha) * Dump / n\n",
    "            P.append(np.around(np.trace(M[i]), 4))\n",
    "#         print(P)\n",
    "#     dic = {}\n",
    "#     for i in range(n):\n",
    "#         dic[i] = P[i]\n",
    "    return(P)"
   ]
  },
  {
   "cell_type": "markdown",
   "id": "9830c4df",
   "metadata": {},
   "source": [
    "#### Q-rank"
   ]
  },
  {
   "cell_type": "markdown",
   "id": "c8bae2c2",
   "metadata": {},
   "source": [
    "##### One step evaluation\n",
    "\n",
    "This program takes a graph $G$, a real number $\\alpha \\in (0, 1)$ and a list of matrices $M$. If the graph $G$ is not a directed graph the program convers it to a directed graph with edge edge has two orientaions. The list $M$ consists of matices corresponding to the verties of the graph. Then, we generate a list of matrices which is generated after one step of evolution."
   ]
  },
  {
   "cell_type": "code",
   "execution_count": 15,
   "id": "a080ec3e",
   "metadata": {},
   "outputs": [],
   "source": [
    "def one_step_evolution(G, alpha, M):\n",
    "    n = G.order()\n",
    "    V = list(G.nodes())\n",
    "    Kdict = Kraus_dictionary(G)\n",
    "    L = [np.matrix(np.zeros((n , n)))]*n\n",
    "    if type(G) == nx.classes.graph.Graph:\n",
    "        G = G.to_directed()\n",
    "    for i in range(n):\n",
    "        u_0 = V[i]\n",
    "        E = []\n",
    "        E = list(G.in_edges(u_0)) + [(u_0, u_0)]\n",
    "        for e in E:\n",
    "            L[i] = L[i] + Kdict[e] * M[e[0]] * np.conjugate(Kdict[e]).transpose()\n",
    "    Dump = sum(M)\n",
    "    for i in range(n):\n",
    "        L[i] = alpha * L[i] + (1 - alpha) * Dump / n\n",
    "    return(L)"
   ]
  },
  {
   "cell_type": "markdown",
   "id": "5e65eccf",
   "metadata": {},
   "source": [
    "##### Find probability from matrices\n",
    "\n",
    "Let $M$ be a list of matrices. In a list we keep the trace of the matrices which are the probability of getting the walker at the corresponding vertices."
   ]
  },
  {
   "cell_type": "code",
   "execution_count": 11,
   "id": "144f3140",
   "metadata": {},
   "outputs": [],
   "source": [
    "def find_probability(M):\n",
    "    n = len(M)\n",
    "    P = []\n",
    "    for i in range(n):\n",
    "        P.append(np.around(np.trace(M[i]), 4))\n",
    "    return(P)"
   ]
  },
  {
   "cell_type": "markdown",
   "id": "b2041e3d",
   "metadata": {},
   "source": [
    "##### Q-rank\n",
    "\n",
    "Given a graph $G$ and a damping factor $\\alpha$ this program returns the Q-rank of the nodes of $G$."
   ]
  },
  {
   "cell_type": "code",
   "execution_count": 1,
   "id": "dc445800",
   "metadata": {},
   "outputs": [],
   "source": [
    "def q_rank(G, alpha):\n",
    "    n = G.order()\n",
    "    V = list(G.nodes())\n",
    "    Kdict = Kraus_dictionary(G)\n",
    "    IS = initial_state(G)\n",
    "    M = IS.copy()\n",
    "    P = []\n",
    "    P = find_probability(M)\n",
    "    Q = [1]*n\n",
    "    t = 1\n",
    "    while lin.norm(np.array(P) - np.array(Q)) >= .0001:\n",
    "        P = []\n",
    "        P = Q\n",
    "#         print(P)\n",
    "        L = one_step_evolution(G, .85, M)\n",
    "        Q = []\n",
    "        Q = find_probability(L)\n",
    "#         print(Q)\n",
    "        M = []\n",
    "        M = L.copy()\n",
    "        t = t + 1\n",
    "    dic = {}\n",
    "    for i in range(n):\n",
    "        dic[i] = np.around(Q[i])\n",
    "    return(dic, t)"
   ]
  },
  {
   "cell_type": "markdown",
   "id": "6d223d6e",
   "metadata": {},
   "source": [
    "#### Page rank"
   ]
  },
  {
   "cell_type": "markdown",
   "id": "65fa3a70",
   "metadata": {},
   "source": [
    "##### Google Matrix\n",
    "The Google matrix is defined by \n",
    "$$G = \\alpha S + (1 - \\alpha) e * e^t / n.$$\n",
    "Here $S$ is defined by \n",
    "$$S = H + a * (1/n) e^t,$$\n",
    "H is the adjacency matrix of directed graph, $e$ is all one column vector, and $a$ is a column vector whose $i$-th position is $1$ if $i$ is a dagling node otherwise $0$. Also, $\\alpha$ is a damping factor.\n",
    "\n",
    "For simplicity we first calculate the adjacency matrix of the diected graph. We divide the non-zero rows by the out-degree of the corresponding node. We replace the zero rows by the all one rows divided by $n$, where $n$ is the number of vertices. This is the $S$ matrix. The matrix $e * e^t$ is all one matrix of order $n$.\n",
    "\n",
    "In the program below:\n",
    "1. G = Given graph. If $G$ is not directed this program converts it to a directed graph with every edge have two orientations.\n",
    "2. alpha = Given damping factor\n",
    "3. n = number of vertices in $G$\n",
    "4. O = all one matrix of order $n$\n",
    "5. A = adjacency matrix of $G$\n",
    "6. H = all zero matrix of order $n$, which acts as the initial Google matrix. we replace its rows by the corresponding rows of the adjacency matrix after deviding by the vertex out degree. Therefore, $S = H$ after line 11.\n",
    "7. i is an index representing a row of the Google matrix, adjacency matrix, or a vertex in $G$"
   ]
  },
  {
   "cell_type": "code",
   "execution_count": 13,
   "id": "2a473385",
   "metadata": {},
   "outputs": [],
   "source": [
    "def Google_matrix(G, alpha):\n",
    "    n = G.order()\n",
    "    if type(G) == nx.classes.graph.Graph:\n",
    "        G = G.to_directed()\n",
    "    O = np.ones(n)\n",
    "    A = nx.adjacency_matrix(G).A\n",
    "    S = np.zeros((n, n))\n",
    "    for i in range(n):\n",
    "        if G.out_degree(i) != 0:\n",
    "            d = G.out_degree(i)\n",
    "            S[i] = A[i]/d\n",
    "        else:\n",
    "            S[i] = np.ones(n)/n\n",
    "    Google = alpha * S + (1 - alpha)*O/n\n",
    "    return(Google)"
   ]
  },
  {
   "cell_type": "markdown",
   "id": "6959f9f7",
   "metadata": {},
   "source": [
    "##### Page Rank\n",
    "\n",
    "Given a graph $G$ and a damping factor $\\alpha$, this program returns the page rank of the vertices and the number of steps required for convergence with error $.0001$. "
   ]
  },
  {
   "cell_type": "code",
   "execution_count": 14,
   "id": "13be8408",
   "metadata": {},
   "outputs": [],
   "source": [
    "def page_rank(G, alpha):\n",
    "    Google = np.matrix(Google_matrix(G, alpha))\n",
    "    n = G.order()\n",
    "    w = np.ones(n) / n\n",
    "    v = w*Google\n",
    "    t = 1\n",
    "    while np.linalg.norm(w - v) >= .0001:\n",
    "        w = v\n",
    "        v = w*Google\n",
    "        t = t + 1\n",
    "    dic = {}\n",
    "    v = np.array(v)[0]\n",
    "    for i in range(n):\n",
    "        dic[i] = v[i]\n",
    "    return(dic, t)\n",
    "#     return(v)"
   ]
  },
  {
   "cell_type": "code",
   "execution_count": null,
   "id": "34ebd7a1",
   "metadata": {},
   "outputs": [],
   "source": []
  },
  {
   "cell_type": "markdown",
   "id": "fc509cd9",
   "metadata": {},
   "source": [
    "## Examples"
   ]
  },
  {
   "cell_type": "markdown",
   "id": "f70ba59c",
   "metadata": {},
   "source": [
    "#### An arbitrary graph"
   ]
  },
  {
   "cell_type": "code",
   "execution_count": 28,
   "id": "8561a8f3",
   "metadata": {
    "scrolled": false
   },
   "outputs": [
    {
     "data": {
      "image/png": "[encoded data removed]",
      "text/plain": [
       "<Figure size 640x480 with 1 Axes>"
      ]
     },
     "metadata": {},
     "output_type": "display_data"
    }
   ],
   "source": [
    "G=nx.DiGraph()\n",
    "V = [0, 1, 2, 3, 4, 5]\n",
    "E = [(0, 1), (0, 4), (1, 0), (2, 1), (2, 3), (3, 0), (4, 3), (5, 0)]\n",
    "G.add_nodes_from(V)\n",
    "G.add_edges_from(E)\n",
    "nx.draw_networkx(G)"
   ]
  },
  {
   "cell_type": "code",
   "execution_count": 18,
   "id": "58928efd",
   "metadata": {},
   "outputs": [
    {
     "name": "stderr",
     "output_type": "stream",
     "text": [
      "/tmp/ipykernel_432651/3656953428.py:4: FutureWarning: adjacency_matrix will return a scipy.sparse array instead of a matrix in Networkx 3.0.\n",
      "  A = nx.adjacency_matrix(G).A\n"
     ]
    },
    {
     "data": {
      "text/plain": [
       "{0: 0.37648774903470544,\n",
       " 1: 0.19563971512496053,\n",
       " 2: 0.025,\n",
       " 3: 0.1928578207153735,\n",
       " 4: 0.18501471512496048,\n",
       " 5: 0.025}"
      ]
     },
     "execution_count": 18,
     "metadata": {},
     "output_type": "execute_result"
    }
   ],
   "source": [
    "P, t = page_rank(G, .85)\n",
    "P"
   ]
  },
  {
   "cell_type": "code",
   "execution_count": 19,
   "id": "08a5252c",
   "metadata": {},
   "outputs": [
    {
     "data": {
      "text/plain": [
       "18"
      ]
     },
     "execution_count": 19,
     "metadata": {},
     "output_type": "execute_result"
    }
   ],
   "source": [
    "t"
   ]
  },
  {
   "cell_type": "code",
   "execution_count": 20,
   "id": "9bf51538",
   "metadata": {
    "scrolled": false
   },
   "outputs": [
    {
     "data": {
      "text/plain": [
       "{0: (0.3084-0j),\n",
       " 1: (0.2127-0j),\n",
       " 2: (0.0349-0j),\n",
       " 3: (0.2051+0j),\n",
       " 4: (0.1955-0j),\n",
       " 5: (0.0435-0j)}"
      ]
     },
     "execution_count": 20,
     "metadata": {},
     "output_type": "execute_result"
    }
   ],
   "source": [
    "Q, t = q_rank(G, .85)\n",
    "Q"
   ]
  },
  {
   "cell_type": "code",
   "execution_count": 22,
   "id": "c760be58",
   "metadata": {},
   "outputs": [
    {
     "data": {
      "text/plain": [
       "12"
      ]
     },
     "execution_count": 22,
     "metadata": {},
     "output_type": "execute_result"
    }
   ],
   "source": [
    "t"
   ]
  },
  {
   "cell_type": "code",
   "execution_count": 23,
   "id": "5c4900f7",
   "metadata": {},
   "outputs": [
    {
     "data": {
      "text/plain": [
       "array([0.37648775, 0.19563972, 0.025     , 0.19285782, 0.18501472,\n",
       "       0.025     ])"
      ]
     },
     "execution_count": 23,
     "metadata": {},
     "output_type": "execute_result"
    }
   ],
   "source": [
    "P1 = np.real(list(P.values()))\n",
    "P1"
   ]
  },
  {
   "cell_type": "code",
   "execution_count": 24,
   "id": "3252b05e",
   "metadata": {},
   "outputs": [
    {
     "data": {
      "text/plain": [
       "array([0.3084, 0.2127, 0.0349, 0.2051, 0.1955, 0.0435])"
      ]
     },
     "execution_count": 24,
     "metadata": {},
     "output_type": "execute_result"
    }
   ],
   "source": [
    "Q1 = np.real(list(Q.values()))\n",
    "Q1"
   ]
  },
  {
   "cell_type": "code",
   "execution_count": 25,
   "id": "18be699b",
   "metadata": {},
   "outputs": [
    {
     "data": {
      "text/plain": [
       "[0, 1, 2, 3, 4, 5]"
      ]
     },
     "execution_count": 25,
     "metadata": {},
     "output_type": "execute_result"
    }
   ],
   "source": [
    "X = list(G.nodes())\n",
    "X"
   ]
  },
  {
   "cell_type": "code",
   "execution_count": 26,
   "id": "283da9ed",
   "metadata": {},
   "outputs": [
    {
     "data": {
      "image/png": "[encoded data removed]",
      "text/plain": [
       "<Figure size 1200x600 with 1 Axes>"
      ]
     },
     "metadata": {},
     "output_type": "display_data"
    }
   ],
   "source": [
    "plt.figure(figsize=(12,6))\n",
    "X_axis = np.arange(len(X))\n",
    "plt.bar(X_axis - 0.2, P1, 0.4, label = 'QRank') \n",
    "plt.bar(X_axis + 0.2, Q1, 0.4, label = 'Pagerank')\n",
    "plt.xticks(X_axis, X) \n",
    "plt.legend() \n",
    "plt.show() "
   ]
  },
  {
   "cell_type": "markdown",
   "id": "77964c07",
   "metadata": {},
   "source": [
    "##### For which value of damping factor the ranks are closest?"
   ]
  },
  {
   "cell_type": "code",
   "execution_count": 41,
   "id": "256d6d32",
   "metadata": {},
   "outputs": [
    {
     "data": {
      "text/plain": [
       "array([0.        , 0.05210526, 0.10421053, 0.15631579, 0.20842105,\n",
       "       0.26052632, 0.31263158, 0.36473684, 0.41684211, 0.46894737,\n",
       "       0.52105263, 0.57315789, 0.62526316, 0.67736842, 0.72947368,\n",
       "       0.78157895, 0.83368421, 0.88578947, 0.93789474, 0.99      ])"
      ]
     },
     "execution_count": 41,
     "metadata": {},
     "output_type": "execute_result"
    }
   ],
   "source": [
    "Alpha = np.linspace(0, .99, 20)\n",
    "Alpha"
   ]
  },
  {
   "cell_type": "code",
   "execution_count": 43,
   "id": "772862b0",
   "metadata": {},
   "outputs": [
    {
     "name": "stderr",
     "output_type": "stream",
     "text": [
      "/tmp/ipykernel_230045/3656953428.py:4: FutureWarning: adjacency_matrix will return a scipy.sparse array instead of a matrix in Networkx 3.0.\n",
      "  A = nx.adjacency_matrix(G).A\n"
     ]
    },
    {
     "name": "stdout",
     "output_type": "stream",
     "text": [
      "difference =  0.23884800606243295 alpha =  0.99 beta =  0.99\n"
     ]
    }
   ],
   "source": [
    "dicP, t = page_rank(G, 0)\n",
    "P = np.array(list(dicP.values()))\n",
    "dicQ, t = q_rank(G, 0)\n",
    "Q = np.array(list(dicQ.values()))\n",
    "diff = lin.norm(np.array(P) - np.array(Q))\n",
    "A = 0\n",
    "B = 0\n",
    "for alpha in Alpha:\n",
    "    dicP, t = page_rank(G, alpha)\n",
    "    temp_P = np.array(list(dicP.values()))\n",
    "    for beta in Alpha:\n",
    "        dicQ, t = q_rank(G, beta)\n",
    "        temp_Q = np.array(list(dicP.values()))\n",
    "        temp_diff = lin.norm(np.array(P) - np.array(Q))\n",
    "        if temp_diff < diff:\n",
    "            diff = temp_diff\n",
    "            A = alpha\n",
    "            B = beta\n",
    "print(\"difference = \", temp_diff, \"alpha = \", alpha, \"beta = \", beta)"
   ]
  },
  {
   "cell_type": "code",
   "execution_count": 46,
   "id": "61e1242d",
   "metadata": {},
   "outputs": [
    {
     "name": "stderr",
     "output_type": "stream",
     "text": [
      "/tmp/ipykernel_230045/3656953428.py:4: FutureWarning: adjacency_matrix will return a scipy.sparse array instead of a matrix in Networkx 3.0.\n",
      "  A = nx.adjacency_matrix(G).A\n"
     ]
    },
    {
     "data": {
      "text/plain": [
       "[(0.0, 0.0, 0.23884800606243295),\n",
       " (0.0, 0.05210526315789474, 0.23884800606243295),\n",
       " (0.0, 0.10421052631578948, 0.23884800606243295),\n",
       " (0.0, 0.1563157894736842, 0.23884800606243295),\n",
       " (0.0, 0.20842105263157895, 0.23884800606243295),\n",
       " (0.0, 0.2605263157894737, 0.23884800606243295),\n",
       " (0.0, 0.3126315789473684, 0.23884800606243295),\n",
       " (0.0, 0.36473684210526314, 0.23884800606243295),\n",
       " (0.0, 0.4168421052631579, 0.23884800606243295),\n",
       " (0.0, 0.46894736842105267, 0.23884800606243295),\n",
       " (0.0, 0.5210526315789474, 0.23884800606243295),\n",
       " (0.0, 0.5731578947368421, 0.23884800606243295),\n",
       " (0.0, 0.6252631578947369, 0.23884800606243295),\n",
       " (0.0, 0.6773684210526316, 0.23884800606243295),\n",
       " (0.0, 0.7294736842105263, 0.23884800606243295),\n",
       " (0.0, 0.781578947368421, 0.23884800606243295),\n",
       " (0.0, 0.8336842105263158, 0.23884800606243295),\n",
       " (0.0, 0.8857894736842106, 0.23884800606243295),\n",
       " (0.0, 0.9378947368421053, 0.23884800606243295),\n",
       " (0.0, 0.99, 0.23884800606243295),\n",
       " (0.05210526315789474, 0.0, 0.23884800606243295),\n",
       " (0.05210526315789474, 0.05210526315789474, 0.23884800606243295),\n",
       " (0.05210526315789474, 0.10421052631578948, 0.23884800606243295),\n",
       " (0.05210526315789474, 0.1563157894736842, 0.23884800606243295),\n",
       " (0.05210526315789474, 0.20842105263157895, 0.23884800606243295),\n",
       " (0.05210526315789474, 0.2605263157894737, 0.23884800606243295),\n",
       " (0.05210526315789474, 0.3126315789473684, 0.23884800606243295),\n",
       " (0.05210526315789474, 0.36473684210526314, 0.23884800606243295),\n",
       " (0.05210526315789474, 0.4168421052631579, 0.23884800606243295),\n",
       " (0.05210526315789474, 0.46894736842105267, 0.23884800606243295),\n",
       " (0.05210526315789474, 0.5210526315789474, 0.23884800606243295),\n",
       " (0.05210526315789474, 0.5731578947368421, 0.23884800606243295),\n",
       " (0.05210526315789474, 0.6252631578947369, 0.23884800606243295),\n",
       " (0.05210526315789474, 0.6773684210526316, 0.23884800606243295),\n",
       " (0.05210526315789474, 0.7294736842105263, 0.23884800606243295),\n",
       " (0.05210526315789474, 0.781578947368421, 0.23884800606243295),\n",
       " (0.05210526315789474, 0.8336842105263158, 0.23884800606243295),\n",
       " (0.05210526315789474, 0.8857894736842106, 0.23884800606243295),\n",
       " (0.05210526315789474, 0.9378947368421053, 0.23884800606243295),\n",
       " (0.05210526315789474, 0.99, 0.23884800606243295),\n",
       " (0.10421052631578948, 0.0, 0.23884800606243295),\n",
       " (0.10421052631578948, 0.05210526315789474, 0.23884800606243295),\n",
       " (0.10421052631578948, 0.10421052631578948, 0.23884800606243295),\n",
       " (0.10421052631578948, 0.1563157894736842, 0.23884800606243295),\n",
       " (0.10421052631578948, 0.20842105263157895, 0.23884800606243295),\n",
       " (0.10421052631578948, 0.2605263157894737, 0.23884800606243295),\n",
       " (0.10421052631578948, 0.3126315789473684, 0.23884800606243295),\n",
       " (0.10421052631578948, 0.36473684210526314, 0.23884800606243295),\n",
       " (0.10421052631578948, 0.4168421052631579, 0.23884800606243295),\n",
       " (0.10421052631578948, 0.46894736842105267, 0.23884800606243295),\n",
       " (0.10421052631578948, 0.5210526315789474, 0.23884800606243295),\n",
       " (0.10421052631578948, 0.5731578947368421, 0.23884800606243295),\n",
       " (0.10421052631578948, 0.6252631578947369, 0.23884800606243295),\n",
       " (0.10421052631578948, 0.6773684210526316, 0.23884800606243295),\n",
       " (0.10421052631578948, 0.7294736842105263, 0.23884800606243295),\n",
       " (0.10421052631578948, 0.781578947368421, 0.23884800606243295),\n",
       " (0.10421052631578948, 0.8336842105263158, 0.23884800606243295),\n",
       " (0.10421052631578948, 0.8857894736842106, 0.23884800606243295),\n",
       " (0.10421052631578948, 0.9378947368421053, 0.23884800606243295),\n",
       " (0.10421052631578948, 0.99, 0.23884800606243295),\n",
       " (0.1563157894736842, 0.0, 0.23884800606243295),\n",
       " (0.1563157894736842, 0.05210526315789474, 0.23884800606243295),\n",
       " (0.1563157894736842, 0.10421052631578948, 0.23884800606243295),\n",
       " (0.1563157894736842, 0.1563157894736842, 0.23884800606243295),\n",
       " (0.1563157894736842, 0.20842105263157895, 0.23884800606243295),\n",
       " (0.1563157894736842, 0.2605263157894737, 0.23884800606243295),\n",
       " (0.1563157894736842, 0.3126315789473684, 0.23884800606243295),\n",
       " (0.1563157894736842, 0.36473684210526314, 0.23884800606243295),\n",
       " (0.1563157894736842, 0.4168421052631579, 0.23884800606243295),\n",
       " (0.1563157894736842, 0.46894736842105267, 0.23884800606243295),\n",
       " (0.1563157894736842, 0.5210526315789474, 0.23884800606243295),\n",
       " (0.1563157894736842, 0.5731578947368421, 0.23884800606243295),\n",
       " (0.1563157894736842, 0.6252631578947369, 0.23884800606243295),\n",
       " (0.1563157894736842, 0.6773684210526316, 0.23884800606243295),\n",
       " (0.1563157894736842, 0.7294736842105263, 0.23884800606243295),\n",
       " (0.1563157894736842, 0.781578947368421, 0.23884800606243295),\n",
       " (0.1563157894736842, 0.8336842105263158, 0.23884800606243295),\n",
       " (0.1563157894736842, 0.8857894736842106, 0.23884800606243295),\n",
       " (0.1563157894736842, 0.9378947368421053, 0.23884800606243295),\n",
       " (0.1563157894736842, 0.99, 0.23884800606243295),\n",
       " (0.20842105263157895, 0.0, 0.23884800606243295),\n",
       " (0.20842105263157895, 0.05210526315789474, 0.23884800606243295),\n",
       " (0.20842105263157895, 0.10421052631578948, 0.23884800606243295),\n",
       " (0.20842105263157895, 0.1563157894736842, 0.23884800606243295),\n",
       " (0.20842105263157895, 0.20842105263157895, 0.23884800606243295),\n",
       " (0.20842105263157895, 0.2605263157894737, 0.23884800606243295),\n",
       " (0.20842105263157895, 0.3126315789473684, 0.23884800606243295),\n",
       " (0.20842105263157895, 0.36473684210526314, 0.23884800606243295),\n",
       " (0.20842105263157895, 0.4168421052631579, 0.23884800606243295),\n",
       " (0.20842105263157895, 0.46894736842105267, 0.23884800606243295),\n",
       " (0.20842105263157895, 0.5210526315789474, 0.23884800606243295),\n",
       " (0.20842105263157895, 0.5731578947368421, 0.23884800606243295),\n",
       " (0.20842105263157895, 0.6252631578947369, 0.23884800606243295),\n",
       " (0.20842105263157895, 0.6773684210526316, 0.23884800606243295),\n",
       " (0.20842105263157895, 0.7294736842105263, 0.23884800606243295),\n",
       " (0.20842105263157895, 0.781578947368421, 0.23884800606243295),\n",
       " (0.20842105263157895, 0.8336842105263158, 0.23884800606243295),\n",
       " (0.20842105263157895, 0.8857894736842106, 0.23884800606243295),\n",
       " (0.20842105263157895, 0.9378947368421053, 0.23884800606243295),\n",
       " (0.20842105263157895, 0.99, 0.23884800606243295),\n",
       " (0.2605263157894737, 0.0, 0.23884800606243295),\n",
       " (0.2605263157894737, 0.05210526315789474, 0.23884800606243295),\n",
       " (0.2605263157894737, 0.10421052631578948, 0.23884800606243295),\n",
       " (0.2605263157894737, 0.1563157894736842, 0.23884800606243295),\n",
       " (0.2605263157894737, 0.20842105263157895, 0.23884800606243295),\n",
       " (0.2605263157894737, 0.2605263157894737, 0.23884800606243295),\n",
       " (0.2605263157894737, 0.3126315789473684, 0.23884800606243295),\n",
       " (0.2605263157894737, 0.36473684210526314, 0.23884800606243295),\n",
       " (0.2605263157894737, 0.4168421052631579, 0.23884800606243295),\n",
       " (0.2605263157894737, 0.46894736842105267, 0.23884800606243295),\n",
       " (0.2605263157894737, 0.5210526315789474, 0.23884800606243295),\n",
       " (0.2605263157894737, 0.5731578947368421, 0.23884800606243295),\n",
       " (0.2605263157894737, 0.6252631578947369, 0.23884800606243295),\n",
       " (0.2605263157894737, 0.6773684210526316, 0.23884800606243295),\n",
       " (0.2605263157894737, 0.7294736842105263, 0.23884800606243295),\n",
       " (0.2605263157894737, 0.781578947368421, 0.23884800606243295),\n",
       " (0.2605263157894737, 0.8336842105263158, 0.23884800606243295),\n",
       " (0.2605263157894737, 0.8857894736842106, 0.23884800606243295),\n",
       " (0.2605263157894737, 0.9378947368421053, 0.23884800606243295),\n",
       " (0.2605263157894737, 0.99, 0.23884800606243295),\n",
       " (0.3126315789473684, 0.0, 0.23884800606243295),\n",
       " (0.3126315789473684, 0.05210526315789474, 0.23884800606243295),\n",
       " (0.3126315789473684, 0.10421052631578948, 0.23884800606243295),\n",
       " (0.3126315789473684, 0.1563157894736842, 0.23884800606243295),\n",
       " (0.3126315789473684, 0.20842105263157895, 0.23884800606243295),\n",
       " (0.3126315789473684, 0.2605263157894737, 0.23884800606243295),\n",
       " (0.3126315789473684, 0.3126315789473684, 0.23884800606243295),\n",
       " (0.3126315789473684, 0.36473684210526314, 0.23884800606243295),\n",
       " (0.3126315789473684, 0.4168421052631579, 0.23884800606243295),\n",
       " (0.3126315789473684, 0.46894736842105267, 0.23884800606243295),\n",
       " (0.3126315789473684, 0.5210526315789474, 0.23884800606243295),\n",
       " (0.3126315789473684, 0.5731578947368421, 0.23884800606243295),\n",
       " (0.3126315789473684, 0.6252631578947369, 0.23884800606243295),\n",
       " (0.3126315789473684, 0.6773684210526316, 0.23884800606243295),\n",
       " (0.3126315789473684, 0.7294736842105263, 0.23884800606243295),\n",
       " (0.3126315789473684, 0.781578947368421, 0.23884800606243295),\n",
       " (0.3126315789473684, 0.8336842105263158, 0.23884800606243295),\n",
       " (0.3126315789473684, 0.8857894736842106, 0.23884800606243295),\n",
       " (0.3126315789473684, 0.9378947368421053, 0.23884800606243295),\n",
       " (0.3126315789473684, 0.99, 0.23884800606243295),\n",
       " (0.36473684210526314, 0.0, 0.23884800606243295),\n",
       " (0.36473684210526314, 0.05210526315789474, 0.23884800606243295),\n",
       " (0.36473684210526314, 0.10421052631578948, 0.23884800606243295),\n",
       " (0.36473684210526314, 0.1563157894736842, 0.23884800606243295),\n",
       " (0.36473684210526314, 0.20842105263157895, 0.23884800606243295),\n",
       " (0.36473684210526314, 0.2605263157894737, 0.23884800606243295),\n",
       " (0.36473684210526314, 0.3126315789473684, 0.23884800606243295),\n",
       " (0.36473684210526314, 0.36473684210526314, 0.23884800606243295),\n",
       " (0.36473684210526314, 0.4168421052631579, 0.23884800606243295),\n",
       " (0.36473684210526314, 0.46894736842105267, 0.23884800606243295),\n",
       " (0.36473684210526314, 0.5210526315789474, 0.23884800606243295),\n",
       " (0.36473684210526314, 0.5731578947368421, 0.23884800606243295),\n",
       " (0.36473684210526314, 0.6252631578947369, 0.23884800606243295),\n",
       " (0.36473684210526314, 0.6773684210526316, 0.23884800606243295),\n",
       " (0.36473684210526314, 0.7294736842105263, 0.23884800606243295),\n",
       " (0.36473684210526314, 0.781578947368421, 0.23884800606243295),\n",
       " (0.36473684210526314, 0.8336842105263158, 0.23884800606243295),\n",
       " (0.36473684210526314, 0.8857894736842106, 0.23884800606243295),\n",
       " (0.36473684210526314, 0.9378947368421053, 0.23884800606243295),\n",
       " (0.36473684210526314, 0.99, 0.23884800606243295),\n",
       " (0.4168421052631579, 0.0, 0.23884800606243295),\n",
       " (0.4168421052631579, 0.05210526315789474, 0.23884800606243295),\n",
       " (0.4168421052631579, 0.10421052631578948, 0.23884800606243295),\n",
       " (0.4168421052631579, 0.1563157894736842, 0.23884800606243295),\n",
       " (0.4168421052631579, 0.20842105263157895, 0.23884800606243295),\n",
       " (0.4168421052631579, 0.2605263157894737, 0.23884800606243295),\n",
       " (0.4168421052631579, 0.3126315789473684, 0.23884800606243295),\n",
       " (0.4168421052631579, 0.36473684210526314, 0.23884800606243295),\n",
       " (0.4168421052631579, 0.4168421052631579, 0.23884800606243295),\n",
       " (0.4168421052631579, 0.46894736842105267, 0.23884800606243295),\n",
       " (0.4168421052631579, 0.5210526315789474, 0.23884800606243295),\n",
       " (0.4168421052631579, 0.5731578947368421, 0.23884800606243295),\n",
       " (0.4168421052631579, 0.6252631578947369, 0.23884800606243295),\n",
       " (0.4168421052631579, 0.6773684210526316, 0.23884800606243295),\n",
       " (0.4168421052631579, 0.7294736842105263, 0.23884800606243295),\n",
       " (0.4168421052631579, 0.781578947368421, 0.23884800606243295),\n",
       " (0.4168421052631579, 0.8336842105263158, 0.23884800606243295),\n",
       " (0.4168421052631579, 0.8857894736842106, 0.23884800606243295),\n",
       " (0.4168421052631579, 0.9378947368421053, 0.23884800606243295),\n",
       " (0.4168421052631579, 0.99, 0.23884800606243295),\n",
       " (0.46894736842105267, 0.0, 0.23884800606243295),\n",
       " (0.46894736842105267, 0.05210526315789474, 0.23884800606243295),\n",
       " (0.46894736842105267, 0.10421052631578948, 0.23884800606243295),\n",
       " (0.46894736842105267, 0.1563157894736842, 0.23884800606243295),\n",
       " (0.46894736842105267, 0.20842105263157895, 0.23884800606243295),\n",
       " (0.46894736842105267, 0.2605263157894737, 0.23884800606243295),\n",
       " (0.46894736842105267, 0.3126315789473684, 0.23884800606243295),\n",
       " (0.46894736842105267, 0.36473684210526314, 0.23884800606243295),\n",
       " (0.46894736842105267, 0.4168421052631579, 0.23884800606243295),\n",
       " (0.46894736842105267, 0.46894736842105267, 0.23884800606243295),\n",
       " (0.46894736842105267, 0.5210526315789474, 0.23884800606243295),\n",
       " (0.46894736842105267, 0.5731578947368421, 0.23884800606243295),\n",
       " (0.46894736842105267, 0.6252631578947369, 0.23884800606243295),\n",
       " (0.46894736842105267, 0.6773684210526316, 0.23884800606243295),\n",
       " (0.46894736842105267, 0.7294736842105263, 0.23884800606243295),\n",
       " (0.46894736842105267, 0.781578947368421, 0.23884800606243295),\n",
       " (0.46894736842105267, 0.8336842105263158, 0.23884800606243295),\n",
       " (0.46894736842105267, 0.8857894736842106, 0.23884800606243295),\n",
       " (0.46894736842105267, 0.9378947368421053, 0.23884800606243295),\n",
       " (0.46894736842105267, 0.99, 0.23884800606243295),\n",
       " (0.5210526315789474, 0.0, 0.23884800606243295),\n",
       " (0.5210526315789474, 0.05210526315789474, 0.23884800606243295),\n",
       " (0.5210526315789474, 0.10421052631578948, 0.23884800606243295),\n",
       " (0.5210526315789474, 0.1563157894736842, 0.23884800606243295),\n",
       " (0.5210526315789474, 0.20842105263157895, 0.23884800606243295),\n",
       " (0.5210526315789474, 0.2605263157894737, 0.23884800606243295),\n",
       " (0.5210526315789474, 0.3126315789473684, 0.23884800606243295),\n",
       " (0.5210526315789474, 0.36473684210526314, 0.23884800606243295),\n",
       " (0.5210526315789474, 0.4168421052631579, 0.23884800606243295),\n",
       " (0.5210526315789474, 0.46894736842105267, 0.23884800606243295),\n",
       " (0.5210526315789474, 0.5210526315789474, 0.23884800606243295),\n",
       " (0.5210526315789474, 0.5731578947368421, 0.23884800606243295),\n",
       " (0.5210526315789474, 0.6252631578947369, 0.23884800606243295),\n",
       " (0.5210526315789474, 0.6773684210526316, 0.23884800606243295),\n",
       " (0.5210526315789474, 0.7294736842105263, 0.23884800606243295),\n",
       " (0.5210526315789474, 0.781578947368421, 0.23884800606243295),\n",
       " (0.5210526315789474, 0.8336842105263158, 0.23884800606243295),\n",
       " (0.5210526315789474, 0.8857894736842106, 0.23884800606243295),\n",
       " (0.5210526315789474, 0.9378947368421053, 0.23884800606243295),\n",
       " (0.5210526315789474, 0.99, 0.23884800606243295),\n",
       " (0.5731578947368421, 0.0, 0.23884800606243295),\n",
       " (0.5731578947368421, 0.05210526315789474, 0.23884800606243295),\n",
       " (0.5731578947368421, 0.10421052631578948, 0.23884800606243295),\n",
       " (0.5731578947368421, 0.1563157894736842, 0.23884800606243295),\n",
       " (0.5731578947368421, 0.20842105263157895, 0.23884800606243295),\n",
       " (0.5731578947368421, 0.2605263157894737, 0.23884800606243295),\n",
       " (0.5731578947368421, 0.3126315789473684, 0.23884800606243295),\n",
       " (0.5731578947368421, 0.36473684210526314, 0.23884800606243295),\n",
       " (0.5731578947368421, 0.4168421052631579, 0.23884800606243295),\n",
       " (0.5731578947368421, 0.46894736842105267, 0.23884800606243295),\n",
       " (0.5731578947368421, 0.5210526315789474, 0.23884800606243295),\n",
       " (0.5731578947368421, 0.5731578947368421, 0.23884800606243295),\n",
       " (0.5731578947368421, 0.6252631578947369, 0.23884800606243295),\n",
       " (0.5731578947368421, 0.6773684210526316, 0.23884800606243295),\n",
       " (0.5731578947368421, 0.7294736842105263, 0.23884800606243295),\n",
       " (0.5731578947368421, 0.781578947368421, 0.23884800606243295),\n",
       " (0.5731578947368421, 0.8336842105263158, 0.23884800606243295),\n",
       " (0.5731578947368421, 0.8857894736842106, 0.23884800606243295),\n",
       " (0.5731578947368421, 0.9378947368421053, 0.23884800606243295),\n",
       " (0.5731578947368421, 0.99, 0.23884800606243295),\n",
       " (0.6252631578947369, 0.0, 0.23884800606243295),\n",
       " (0.6252631578947369, 0.05210526315789474, 0.23884800606243295),\n",
       " (0.6252631578947369, 0.10421052631578948, 0.23884800606243295),\n",
       " (0.6252631578947369, 0.1563157894736842, 0.23884800606243295),\n",
       " (0.6252631578947369, 0.20842105263157895, 0.23884800606243295),\n",
       " (0.6252631578947369, 0.2605263157894737, 0.23884800606243295),\n",
       " (0.6252631578947369, 0.3126315789473684, 0.23884800606243295),\n",
       " (0.6252631578947369, 0.36473684210526314, 0.23884800606243295),\n",
       " (0.6252631578947369, 0.4168421052631579, 0.23884800606243295),\n",
       " (0.6252631578947369, 0.46894736842105267, 0.23884800606243295),\n",
       " (0.6252631578947369, 0.5210526315789474, 0.23884800606243295),\n",
       " (0.6252631578947369, 0.5731578947368421, 0.23884800606243295),\n",
       " (0.6252631578947369, 0.6252631578947369, 0.23884800606243295),\n",
       " (0.6252631578947369, 0.6773684210526316, 0.23884800606243295),\n",
       " (0.6252631578947369, 0.7294736842105263, 0.23884800606243295),\n",
       " (0.6252631578947369, 0.781578947368421, 0.23884800606243295),\n",
       " (0.6252631578947369, 0.8336842105263158, 0.23884800606243295),\n",
       " (0.6252631578947369, 0.8857894736842106, 0.23884800606243295),\n",
       " (0.6252631578947369, 0.9378947368421053, 0.23884800606243295),\n",
       " (0.6252631578947369, 0.99, 0.23884800606243295),\n",
       " (0.6773684210526316, 0.0, 0.23884800606243295),\n",
       " (0.6773684210526316, 0.05210526315789474, 0.23884800606243295),\n",
       " (0.6773684210526316, 0.10421052631578948, 0.23884800606243295),\n",
       " (0.6773684210526316, 0.1563157894736842, 0.23884800606243295),\n",
       " (0.6773684210526316, 0.20842105263157895, 0.23884800606243295),\n",
       " (0.6773684210526316, 0.2605263157894737, 0.23884800606243295),\n",
       " (0.6773684210526316, 0.3126315789473684, 0.23884800606243295),\n",
       " (0.6773684210526316, 0.36473684210526314, 0.23884800606243295),\n",
       " (0.6773684210526316, 0.4168421052631579, 0.23884800606243295),\n",
       " (0.6773684210526316, 0.46894736842105267, 0.23884800606243295),\n",
       " (0.6773684210526316, 0.5210526315789474, 0.23884800606243295),\n",
       " (0.6773684210526316, 0.5731578947368421, 0.23884800606243295),\n",
       " (0.6773684210526316, 0.6252631578947369, 0.23884800606243295),\n",
       " (0.6773684210526316, 0.6773684210526316, 0.23884800606243295),\n",
       " (0.6773684210526316, 0.7294736842105263, 0.23884800606243295),\n",
       " (0.6773684210526316, 0.781578947368421, 0.23884800606243295),\n",
       " (0.6773684210526316, 0.8336842105263158, 0.23884800606243295),\n",
       " (0.6773684210526316, 0.8857894736842106, 0.23884800606243295),\n",
       " (0.6773684210526316, 0.9378947368421053, 0.23884800606243295),\n",
       " (0.6773684210526316, 0.99, 0.23884800606243295),\n",
       " (0.7294736842105263, 0.0, 0.23884800606243295),\n",
       " (0.7294736842105263, 0.05210526315789474, 0.23884800606243295),\n",
       " (0.7294736842105263, 0.10421052631578948, 0.23884800606243295),\n",
       " (0.7294736842105263, 0.1563157894736842, 0.23884800606243295),\n",
       " (0.7294736842105263, 0.20842105263157895, 0.23884800606243295),\n",
       " (0.7294736842105263, 0.2605263157894737, 0.23884800606243295),\n",
       " (0.7294736842105263, 0.3126315789473684, 0.23884800606243295),\n",
       " (0.7294736842105263, 0.36473684210526314, 0.23884800606243295),\n",
       " (0.7294736842105263, 0.4168421052631579, 0.23884800606243295),\n",
       " (0.7294736842105263, 0.46894736842105267, 0.23884800606243295),\n",
       " (0.7294736842105263, 0.5210526315789474, 0.23884800606243295),\n",
       " (0.7294736842105263, 0.5731578947368421, 0.23884800606243295),\n",
       " (0.7294736842105263, 0.6252631578947369, 0.23884800606243295),\n",
       " (0.7294736842105263, 0.6773684210526316, 0.23884800606243295),\n",
       " (0.7294736842105263, 0.7294736842105263, 0.23884800606243295),\n",
       " (0.7294736842105263, 0.781578947368421, 0.23884800606243295),\n",
       " (0.7294736842105263, 0.8336842105263158, 0.23884800606243295),\n",
       " (0.7294736842105263, 0.8857894736842106, 0.23884800606243295),\n",
       " (0.7294736842105263, 0.9378947368421053, 0.23884800606243295),\n",
       " (0.7294736842105263, 0.99, 0.23884800606243295),\n",
       " (0.781578947368421, 0.0, 0.23884800606243295),\n",
       " (0.781578947368421, 0.05210526315789474, 0.23884800606243295),\n",
       " (0.781578947368421, 0.10421052631578948, 0.23884800606243295),\n",
       " (0.781578947368421, 0.1563157894736842, 0.23884800606243295),\n",
       " (0.781578947368421, 0.20842105263157895, 0.23884800606243295),\n",
       " (0.781578947368421, 0.2605263157894737, 0.23884800606243295),\n",
       " (0.781578947368421, 0.3126315789473684, 0.23884800606243295),\n",
       " (0.781578947368421, 0.36473684210526314, 0.23884800606243295),\n",
       " (0.781578947368421, 0.4168421052631579, 0.23884800606243295),\n",
       " (0.781578947368421, 0.46894736842105267, 0.23884800606243295),\n",
       " (0.781578947368421, 0.5210526315789474, 0.23884800606243295),\n",
       " (0.781578947368421, 0.5731578947368421, 0.23884800606243295),\n",
       " (0.781578947368421, 0.6252631578947369, 0.23884800606243295),\n",
       " (0.781578947368421, 0.6773684210526316, 0.23884800606243295),\n",
       " (0.781578947368421, 0.7294736842105263, 0.23884800606243295),\n",
       " (0.781578947368421, 0.781578947368421, 0.23884800606243295),\n",
       " (0.781578947368421, 0.8336842105263158, 0.23884800606243295),\n",
       " (0.781578947368421, 0.8857894736842106, 0.23884800606243295),\n",
       " (0.781578947368421, 0.9378947368421053, 0.23884800606243295),\n",
       " (0.781578947368421, 0.99, 0.23884800606243295),\n",
       " (0.8336842105263158, 0.0, 0.23884800606243295),\n",
       " (0.8336842105263158, 0.05210526315789474, 0.23884800606243295),\n",
       " (0.8336842105263158, 0.10421052631578948, 0.23884800606243295),\n",
       " (0.8336842105263158, 0.1563157894736842, 0.23884800606243295),\n",
       " (0.8336842105263158, 0.20842105263157895, 0.23884800606243295),\n",
       " (0.8336842105263158, 0.2605263157894737, 0.23884800606243295),\n",
       " (0.8336842105263158, 0.3126315789473684, 0.23884800606243295),\n",
       " (0.8336842105263158, 0.36473684210526314, 0.23884800606243295),\n",
       " (0.8336842105263158, 0.4168421052631579, 0.23884800606243295),\n",
       " (0.8336842105263158, 0.46894736842105267, 0.23884800606243295),\n",
       " (0.8336842105263158, 0.5210526315789474, 0.23884800606243295),\n",
       " (0.8336842105263158, 0.5731578947368421, 0.23884800606243295),\n",
       " (0.8336842105263158, 0.6252631578947369, 0.23884800606243295),\n",
       " (0.8336842105263158, 0.6773684210526316, 0.23884800606243295),\n",
       " (0.8336842105263158, 0.7294736842105263, 0.23884800606243295),\n",
       " (0.8336842105263158, 0.781578947368421, 0.23884800606243295),\n",
       " (0.8336842105263158, 0.8336842105263158, 0.23884800606243295),\n",
       " (0.8336842105263158, 0.8857894736842106, 0.23884800606243295),\n",
       " (0.8336842105263158, 0.9378947368421053, 0.23884800606243295),\n",
       " (0.8336842105263158, 0.99, 0.23884800606243295),\n",
       " (0.8857894736842106, 0.0, 0.23884800606243295),\n",
       " (0.8857894736842106, 0.05210526315789474, 0.23884800606243295),\n",
       " (0.8857894736842106, 0.10421052631578948, 0.23884800606243295),\n",
       " (0.8857894736842106, 0.1563157894736842, 0.23884800606243295),\n",
       " (0.8857894736842106, 0.20842105263157895, 0.23884800606243295),\n",
       " (0.8857894736842106, 0.2605263157894737, 0.23884800606243295),\n",
       " (0.8857894736842106, 0.3126315789473684, 0.23884800606243295),\n",
       " (0.8857894736842106, 0.36473684210526314, 0.23884800606243295),\n",
       " (0.8857894736842106, 0.4168421052631579, 0.23884800606243295),\n",
       " (0.8857894736842106, 0.46894736842105267, 0.23884800606243295),\n",
       " (0.8857894736842106, 0.5210526315789474, 0.23884800606243295),\n",
       " (0.8857894736842106, 0.5731578947368421, 0.23884800606243295),\n",
       " (0.8857894736842106, 0.6252631578947369, 0.23884800606243295),\n",
       " (0.8857894736842106, 0.6773684210526316, 0.23884800606243295),\n",
       " (0.8857894736842106, 0.7294736842105263, 0.23884800606243295),\n",
       " (0.8857894736842106, 0.781578947368421, 0.23884800606243295),\n",
       " (0.8857894736842106, 0.8336842105263158, 0.23884800606243295),\n",
       " (0.8857894736842106, 0.8857894736842106, 0.23884800606243295),\n",
       " (0.8857894736842106, 0.9378947368421053, 0.23884800606243295),\n",
       " (0.8857894736842106, 0.99, 0.23884800606243295),\n",
       " (0.9378947368421053, 0.0, 0.23884800606243295),\n",
       " (0.9378947368421053, 0.05210526315789474, 0.23884800606243295),\n",
       " (0.9378947368421053, 0.10421052631578948, 0.23884800606243295),\n",
       " (0.9378947368421053, 0.1563157894736842, 0.23884800606243295),\n",
       " (0.9378947368421053, 0.20842105263157895, 0.23884800606243295),\n",
       " (0.9378947368421053, 0.2605263157894737, 0.23884800606243295),\n",
       " (0.9378947368421053, 0.3126315789473684, 0.23884800606243295),\n",
       " (0.9378947368421053, 0.36473684210526314, 0.23884800606243295),\n",
       " (0.9378947368421053, 0.4168421052631579, 0.23884800606243295),\n",
       " (0.9378947368421053, 0.46894736842105267, 0.23884800606243295),\n",
       " (0.9378947368421053, 0.5210526315789474, 0.23884800606243295),\n",
       " (0.9378947368421053, 0.5731578947368421, 0.23884800606243295),\n",
       " (0.9378947368421053, 0.6252631578947369, 0.23884800606243295),\n",
       " (0.9378947368421053, 0.6773684210526316, 0.23884800606243295),\n",
       " (0.9378947368421053, 0.7294736842105263, 0.23884800606243295),\n",
       " (0.9378947368421053, 0.781578947368421, 0.23884800606243295),\n",
       " (0.9378947368421053, 0.8336842105263158, 0.23884800606243295),\n",
       " (0.9378947368421053, 0.8857894736842106, 0.23884800606243295),\n",
       " (0.9378947368421053, 0.9378947368421053, 0.23884800606243295),\n",
       " (0.9378947368421053, 0.99, 0.23884800606243295),\n",
       " (0.99, 0.0, 0.23884800606243295),\n",
       " (0.99, 0.05210526315789474, 0.23884800606243295),\n",
       " (0.99, 0.10421052631578948, 0.23884800606243295),\n",
       " (0.99, 0.1563157894736842, 0.23884800606243295),\n",
       " (0.99, 0.20842105263157895, 0.23884800606243295),\n",
       " (0.99, 0.2605263157894737, 0.23884800606243295),\n",
       " (0.99, 0.3126315789473684, 0.23884800606243295),\n",
       " (0.99, 0.36473684210526314, 0.23884800606243295),\n",
       " (0.99, 0.4168421052631579, 0.23884800606243295),\n",
       " (0.99, 0.46894736842105267, 0.23884800606243295),\n",
       " (0.99, 0.5210526315789474, 0.23884800606243295),\n",
       " (0.99, 0.5731578947368421, 0.23884800606243295),\n",
       " (0.99, 0.6252631578947369, 0.23884800606243295),\n",
       " (0.99, 0.6773684210526316, 0.23884800606243295),\n",
       " (0.99, 0.7294736842105263, 0.23884800606243295),\n",
       " (0.99, 0.781578947368421, 0.23884800606243295),\n",
       " (0.99, 0.8336842105263158, 0.23884800606243295),\n",
       " (0.99, 0.8857894736842106, 0.23884800606243295),\n",
       " (0.99, 0.9378947368421053, 0.23884800606243295),\n",
       " (0.99, 0.99, 0.23884800606243295)]"
      ]
     },
     "execution_count": 46,
     "metadata": {},
     "output_type": "execute_result"
    }
   ],
   "source": [
    "DIFF = []\n",
    "for alpha in Alpha:\n",
    "    dicP, t = page_rank(G, alpha)\n",
    "    temp_P = np.array(list(dicP.values()))\n",
    "    for beta in Alpha:\n",
    "        dicQ, t = q_rank(G, beta)\n",
    "        temp_Q = np.array(list(dicP.values()))\n",
    "        temp_diff = lin.norm(np.array(P) - np.array(Q))\n",
    "        DIFF.append((alpha, beta, temp_diff))\n",
    "DIFF"
   ]
  },
  {
   "cell_type": "code",
   "execution_count": null,
   "id": "c7eeb5bb",
   "metadata": {},
   "outputs": [],
   "source": []
  },
  {
   "cell_type": "code",
   "execution_count": null,
   "id": "96e3f9c0",
   "metadata": {},
   "outputs": [],
   "source": []
  },
  {
   "cell_type": "code",
   "execution_count": null,
   "id": "6ae6a8b1",
   "metadata": {},
   "outputs": [],
   "source": []
  },
  {
   "cell_type": "code",
   "execution_count": null,
   "id": "fb6471b7",
   "metadata": {},
   "outputs": [],
   "source": []
  },
  {
   "cell_type": "code",
   "execution_count": null,
   "id": "6a2d92df",
   "metadata": {},
   "outputs": [],
   "source": []
  },
  {
   "cell_type": "code",
   "execution_count": null,
   "id": "7d0b3eee",
   "metadata": {},
   "outputs": [],
   "source": []
  },
  {
   "cell_type": "markdown",
   "id": "a6c3283e",
   "metadata": {},
   "source": [
    "##### Erdos Renyi directed graph"
   ]
  },
  {
   "cell_type": "code",
   "execution_count": 74,
   "id": "00be6c59",
   "metadata": {},
   "outputs": [],
   "source": [
    "G = nx.erdos_renyi_graph(10, .2, seed = None, directed = True)"
   ]
  },
  {
   "cell_type": "code",
   "execution_count": 75,
   "id": "24a87fb0",
   "metadata": {},
   "outputs": [
    {
     "data": {
      "image/png": "[encoded data removed]",
      "text/plain": [
       "<Figure size 432x288 with 1 Axes>"
      ]
     },
     "metadata": {},
     "output_type": "display_data"
    }
   ],
   "source": [
    "nx.draw_networkx(G)"
   ]
  },
  {
   "cell_type": "code",
   "execution_count": 76,
   "id": "7a92e9ae",
   "metadata": {},
   "outputs": [
    {
     "name": "stderr",
     "output_type": "stream",
     "text": [
      "/tmp/ipykernel_6853/3656953428.py:4: FutureWarning: adjacency_matrix will return a scipy.sparse array instead of a matrix in Networkx 3.0.\n",
      "  A = nx.adjacency_matrix(G).A\n"
     ]
    },
    {
     "data": {
      "text/plain": [
       "{0: 0.21977386664497933,\n",
       " 1: 0.09598558199997685,\n",
       " 2: 0.015000000000000012,\n",
       " 3: 0.1707763035634815,\n",
       " 4: 0.20095838484237566,\n",
       " 5: 0.1025019116507266,\n",
       " 6: 0.030696239619291216,\n",
       " 7: 0.03693324788716835,\n",
       " 8: 0.049977343533978716,\n",
       " 9: 0.07739712025802235}"
      ]
     },
     "execution_count": 76,
     "metadata": {},
     "output_type": "execute_result"
    }
   ],
   "source": [
    "P, t = page_rank(G, .85)\n",
    "P"
   ]
  },
  {
   "cell_type": "code",
   "execution_count": 77,
   "id": "f2aff4d6",
   "metadata": {},
   "outputs": [
    {
     "data": {
      "text/plain": [
       "15"
      ]
     },
     "execution_count": 77,
     "metadata": {},
     "output_type": "execute_result"
    }
   ],
   "source": [
    "t"
   ]
  },
  {
   "cell_type": "code",
   "execution_count": 78,
   "id": "4746ca65",
   "metadata": {
    "scrolled": false
   },
   "outputs": [
    {
     "data": {
      "text/plain": [
       "{0: (0.1586+0j),\n",
       " 1: (0.0953+0j),\n",
       " 2: (0.0261-0j),\n",
       " 3: (0.1868+0j),\n",
       " 4: (0.2111-0j),\n",
       " 5: (0.1199-0j),\n",
       " 6: (0.0372-0j),\n",
       " 7: (0.0411+0j),\n",
       " 8: (0.0558+0j),\n",
       " 9: (0.0681+0j)}"
      ]
     },
     "execution_count": 78,
     "metadata": {},
     "output_type": "execute_result"
    }
   ],
   "source": [
    "Q, t = q_rank(G, .85)\n",
    "Q"
   ]
  },
  {
   "cell_type": "code",
   "execution_count": 79,
   "id": "5f15a288",
   "metadata": {},
   "outputs": [
    {
     "data": {
      "text/plain": [
       "14"
      ]
     },
     "execution_count": 79,
     "metadata": {},
     "output_type": "execute_result"
    }
   ],
   "source": [
    "t"
   ]
  },
  {
   "cell_type": "code",
   "execution_count": 80,
   "id": "f8c95bd3",
   "metadata": {},
   "outputs": [
    {
     "data": {
      "text/plain": [
       "array([0.21977387, 0.09598558, 0.015     , 0.1707763 , 0.20095838,\n",
       "       0.10250191, 0.03069624, 0.03693325, 0.04997734, 0.07739712])"
      ]
     },
     "execution_count": 80,
     "metadata": {},
     "output_type": "execute_result"
    }
   ],
   "source": [
    "P1 = np.real(list(P.values()))\n",
    "P1"
   ]
  },
  {
   "cell_type": "code",
   "execution_count": 81,
   "id": "f4c01190",
   "metadata": {},
   "outputs": [
    {
     "data": {
      "text/plain": [
       "array([0.1586, 0.0953, 0.0261, 0.1868, 0.2111, 0.1199, 0.0372, 0.0411,\n",
       "       0.0558, 0.0681])"
      ]
     },
     "execution_count": 81,
     "metadata": {},
     "output_type": "execute_result"
    }
   ],
   "source": [
    "Q1 = np.real(list(Q.values()))\n",
    "Q1"
   ]
  },
  {
   "cell_type": "code",
   "execution_count": 82,
   "id": "4f127c44",
   "metadata": {},
   "outputs": [
    {
     "data": {
      "text/plain": [
       "[0, 1, 2, 3, 4, 5, 6, 7, 8, 9]"
      ]
     },
     "execution_count": 82,
     "metadata": {},
     "output_type": "execute_result"
    }
   ],
   "source": [
    "X = list(G.nodes())\n",
    "X"
   ]
  },
  {
   "cell_type": "code",
   "execution_count": 83,
   "id": "4a6a1923",
   "metadata": {},
   "outputs": [
    {
     "data": {
      "image/png": "[encoded data removed]",
      "text/plain": [
       "<Figure size 864x432 with 1 Axes>"
      ]
     },
     "metadata": {
      "needs_background": "light"
     },
     "output_type": "display_data"
    }
   ],
   "source": [
    "plt.figure(figsize=(12,6))\n",
    "X_axis = np.arange(len(X))\n",
    "plt.bar(X_axis - 0.2, P1, 0.4, label = 'QRank') \n",
    "plt.bar(X_axis + 0.2, Q1, 0.4, label = 'Pagerank')\n",
    "plt.xticks(X_axis, X) \n",
    "plt.legend() \n",
    "plt.show() "
   ]
  },
  {
   "cell_type": "code",
   "execution_count": null,
   "id": "7be846c2",
   "metadata": {},
   "outputs": [],
   "source": []
  }
 ],
 "metadata": {
  "kernelspec": {
   "display_name": "Python 3 (ipykernel)",
   "language": "python",
   "name": "python3"
  },
  "language_info": {
   "codemirror_mode": {
    "name": "ipython",
    "version": 3
   },
   "file_extension": ".py",
   "mimetype": "text/x-python",
   "name": "python",
   "nbconvert_exporter": "python",
   "pygments_lexer": "ipython3",
   "version": "3.9.13"
  },
  "toc": {
   "base_numbering": 1,
   "nav_menu": {},
   "number_sections": true,
   "sideBar": true,
   "skip_h1_title": false,
   "title_cell": "Table of Contents",
   "title_sidebar": "Contents",
   "toc_cell": false,
   "toc_position": {},
   "toc_section_display": true,
   "toc_window_display": false
  }
 },
 "nbformat": 4,
 "nbformat_minor": 5
}
