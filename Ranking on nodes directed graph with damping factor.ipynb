{
 "cells": [
  {
   "cell_type": "markdown",
   "id": "7716aa1c",
   "metadata": {},
   "source": [
    "## Programs\n",
    "\n",
    "Here we keep the main programs to calculate qPageRank of any directed graph."
   ]
  },
  {
   "cell_type": "code",
   "execution_count": 1,
   "id": "3becffc0",
   "metadata": {},
   "outputs": [],
   "source": [
    "import math as math\n",
    "import networkx as nx\n",
    "import matplotlib.pyplot as plt\n",
    "import scipy.linalg as lin\n",
    "import numpy as np\n",
    "import sympy as sym"
   ]
  },
  {
   "cell_type": "code",
   "execution_count": 2,
   "id": "fcb6bb90",
   "metadata": {},
   "outputs": [],
   "source": [
    "pi = np.pi"
   ]
  },
  {
   "cell_type": "markdown",
   "id": "98e7bcb9",
   "metadata": {},
   "source": [
    "##### ket_vector(n, v):\n",
    "\n",
    "Let the graph has $n$ vertices. Corresponding to every vertex $v$ we assign a ket vector of dimension $n$. This is a binary $(0,1)$ vector. In $|n, v>$ of in short $|v>$ the $v$-th position is $1$ and the other posiitons are $0$.\n",
    "\n",
    "This program takes $n$ and $m$ inputs and returns the $|v>$ as output."
   ]
  },
  {
   "cell_type": "code",
   "execution_count": 3,
   "id": "1eb73fa3",
   "metadata": {},
   "outputs": [],
   "source": [
    "def ket_vector(n, v):\n",
    "    ket = [0] * n\n",
    "    ket[v] = 1\n",
    "    return np.matrix(ket).transpose()"
   ]
  },
  {
   "cell_type": "markdown",
   "id": "dd4eb453",
   "metadata": {},
   "source": [
    "##### Construction of Weyl operators\n",
    "\n",
    "Let $G$ be a graph with $n$ vertices. Let $u_0$ be a vertex with neighbors $u_1, u_2, \\dots u_d$. We can construct operators of order $n$, such that\n",
    "$$U_{u_0, u_0} = I_n,$$\n",
    "$$U_{u_0, u_1} = \\sum_{k = 0}^{n - 1} \\exp\\left(\\frac{2\\pi \\iota u_0 k}{n}\\right) |k> <k \\oplus u_1|$$\n",
    "Similarly for the edge $(u_0, u_l)$ we have \n",
    "$$U_{u_0, u_l} = \\sum_{k = 0}^{n - 1} \\exp\\left(\\frac{2\\pi \\iota u_0 k}{n}\\right) |k> <k \\oplus u_l|,$$\n",
    "where $l = 1, 2, \\dots d$.\n",
    "\n",
    "$\\oplus$ is adition modulo $n$, where $n$ is the number of nodes in the graph."
   ]
  },
  {
   "cell_type": "code",
   "execution_count": 4,
   "id": "363def68",
   "metadata": {},
   "outputs": [],
   "source": [
    "def w_coeff(n, u_0, k):\n",
    "    return(np.exp(2J*pi * u_0 * k / n))"
   ]
  },
  {
   "cell_type": "code",
   "execution_count": 5,
   "id": "1640b629",
   "metadata": {},
   "outputs": [],
   "source": [
    "def Weyl(n, u_0, u_l):\n",
    "    z = np.matrix(np.zeros((n ,n)))\n",
    "    for k in range(n):\n",
    "        w = w_coeff(n, u_0, k)\n",
    "        z = z + w * ket_vector(n, k) * ket_vector(n, (k + u_l) % n).transpose()\n",
    "    return(z)"
   ]
  },
  {
   "cell_type": "markdown",
   "id": "615215e5",
   "metadata": {},
   "source": [
    "##### Make a directed graph\n",
    "This program gives two opposite orientations on every edges of a given undirected graph. It returns a dictionary where the vertices of the graph are the keys. Corresponding to every vertex $v$ this dictionary contains a loop $(v,v)$ and outgoing edges $(v, u)$ from the vertex. "
   ]
  },
  {
   "cell_type": "code",
   "execution_count": 6,
   "id": "2dd8e3ae",
   "metadata": {},
   "outputs": [],
   "source": [
    "def make_directed(G):\n",
    "    V = list(G.nodes())\n",
    "    Vdict = {}\n",
    "    for v in V:\n",
    "        E = [(v, v)]\n",
    "        for u in G.neighbors(v):\n",
    "            E.append((v,u))\n",
    "        Vdict[v] = E\n",
    "    return(Vdict)"
   ]
  },
  {
   "cell_type": "markdown",
   "id": "3e1aa38c",
   "metadata": {},
   "source": [
    "##### Kraus ditionary\n",
    "\n",
    "Given a graph $G$ this program returns a dictionary kdict whose keys are the oriented edges in $G$. Correponding to every oriented edge it assigns a Kraus operator. If the graph $G$ is an undirected graph this program converts it to a directed graph.\n",
    "\n",
    "Notations:\n",
    "\n",
    "1. $n$ = number of nodes in $G$;\n",
    "2. Kraus_list = A list containing the Kraus operators corresponding to a given vertex $u_0$ in $G$;\n",
    "3. Kdict = A dictionary contains the list of Kraus operators corresponding to the vertices."
   ]
  },
  {
   "cell_type": "code",
   "execution_count": 17,
   "id": "9facc8a3",
   "metadata": {},
   "outputs": [],
   "source": [
    "def Kraus_dictionary(G):\n",
    "    n = G.order()\n",
    "    Kdict = {}\n",
    "    if type(G) == nx.classes.graph.Graph:\n",
    "        G = G.to_directed()\n",
    "    for u_0 in list(G.nodes()):\n",
    "        d = G.out_degree(u_0) + 1\n",
    "        Kdict[(u_0, u_0)] = np.matrix(np.eye(n))/math.sqrt(d)\n",
    "        for u_l in G.neighbors(u_0):\n",
    "            Kdict[(u_0, u_l)] = Weyl(n, u_0, u_l)/math.sqrt(d)\n",
    "    return(Kdict)"
   ]
  },
  {
   "cell_type": "markdown",
   "id": "ab700a04",
   "metadata": {},
   "source": [
    "##### Initial state\n",
    "Here we consider a scalar multiple of the identity matrices $I_n$ on every vertex which generate the initial state.\n",
    "$$\\rho_{init} = \\frac{1}{n^2} \\sum_{v \\in V(G)} I_n \\otimes |v><v|.$$\n",
    "We do not using the above equation for our calculation. We consider a list of matrices whose entries are $\\frac{I_n}{n^2}$. We update the list with time."
   ]
  },
  {
   "cell_type": "code",
   "execution_count": 8,
   "id": "1e738887",
   "metadata": {},
   "outputs": [],
   "source": [
    "def initial_state(G):\n",
    "    n = G.order()\n",
    "    I = np.matrix(np.eye(n))\n",
    "    list_of_density_matrices = [I/n**2]*n\n",
    "    return(list_of_density_matrices)"
   ]
  },
  {
   "cell_type": "markdown",
   "id": "1036e3a9",
   "metadata": {},
   "source": [
    "##### Evolve without damping factor\n",
    "\n",
    "Here $G$ is the directed graph, $IS$ is the initial state, and $T > 1$ is the time step of evolution.\n",
    "\n",
    "1. n = number of nodes in $G$\n",
    "2. V = list of nodes in $G$.\n",
    "3. M = A list of matrices. Here, we copy a initial state here. In the next step we update it.\n",
    "4. t time steps from 1 to T\n",
    "5. L It is a list that temporarily keeps the states during evaluation for a fixed value of time $t$.\n",
    "6. For every $i$ we get a vertex. After that we consider a directed edge which is coing into $u_0$. Corresponding to every directed edge there is a Kraus operator in Kdict. This operator we apply on $M[e[0]]$. Adter this operation we update L[i] terms. When all L[i] are updated it becomes the new M[i] which is used in the next step of iteration.s\n",
    "\n",
    "The list $M$ cotains the matrices corresponding to every vertices. Their trace represents the probability of getting the walker at the vertex. This program outputs the probability of getting walker at different vertices after T steps of operations. "
   ]
  },
  {
   "cell_type": "code",
   "execution_count": 10,
   "id": "1a8ff317",
   "metadata": {},
   "outputs": [],
   "source": [
    "def evolve(G, IS, T):\n",
    "    n = G.order()\n",
    "    V = list(G.nodes())\n",
    "    M = IS.copy()\n",
    "    Kdict = Kraus_dictionary(G)\n",
    "    for t in range(0, T):\n",
    "#         print(\"t = \", t)\n",
    "        L = [np.matrix(np.zeros((n , n)))]*n\n",
    "        for i in range(n):\n",
    "            u_0 = V[i]\n",
    "            E = []\n",
    "            E = list(G.in_edges(u_0)) + [(u_0, u_0)]\n",
    "            for e in E:\n",
    "                L[i] = L[i] + Kdict[e] * M[e[0]] * np.conjugate(Kdict[e]).transpose()\n",
    "        P = []\n",
    "        for i in range(n):\n",
    "            M[i] = L[i]\n",
    "            P.append(np.around(np.trace(M[i]), 4))\n",
    "#         print(P)\n",
    "    dic = {}\n",
    "    for i in range(n):\n",
    "        dic[i] = P[i]\n",
    "    return(dic)"
   ]
  },
  {
   "cell_type": "markdown",
   "id": "cd710109",
   "metadata": {},
   "source": [
    "##### Evolve with damping factor\n",
    "\n",
    "Here, we add a damping factor $\\alpha, 0 < \\alpha < 1$ during the evolution. The walker can move any vertex from any vertex with a probability $\\alpha$. Hence, we add all the matrices at different vertices with an euqal proportion and we consider this one as our damping operator. "
   ]
  },
  {
   "cell_type": "code",
   "execution_count": 9,
   "id": "4e67fc82",
   "metadata": {},
   "outputs": [],
   "source": [
    "def evolve_with_damping(G, IS, T, alpha):\n",
    "    n = G.order()\n",
    "    V = list(G.nodes())\n",
    "    M = IS.copy()\n",
    "    Kdict = Kraus_dictionary(G)\n",
    "    for t in range(0, T):\n",
    "#         print(\"t = \", t)\n",
    "        L = [np.matrix(np.zeros((n , n)))]*n\n",
    "        for i in range(n):\n",
    "            u_0 = V[i]\n",
    "            E = []\n",
    "            E = list(G.in_edges(u_0)) + [(u_0, u_0)]\n",
    "            for e in E:\n",
    "                L[i] = L[i] + Kdict[e] * M[e[0]] * np.conjugate(Kdict[e]).transpose()\n",
    "        P = []\n",
    "        Dump = sum(M)\n",
    "        for i in range(n):\n",
    "#             M[i] = L[i]\n",
    "            M[i] = alpha * L[i] + (1 - alpha) * Dump / n\n",
    "            P.append(np.around(np.trace(M[i]), 4))\n",
    "#         print(P)\n",
    "#     dic = {}\n",
    "#     for i in range(n):\n",
    "#         dic[i] = P[i]\n",
    "    return(P)"
   ]
  },
  {
   "cell_type": "markdown",
   "id": "9830c4df",
   "metadata": {},
   "source": [
    "#### Q-rank"
   ]
  },
  {
   "cell_type": "markdown",
   "id": "c8bae2c2",
   "metadata": {},
   "source": [
    "##### One step evaluation\n",
    "\n",
    "This program takes a graph $G$, a real number $\\alpha \\in (0, 1)$ and a list of matrices $M$. If the graph $G$ is not a directed graph the program convers it to a directed graph with edge edge has two orientaions. The list $M$ consists of matices corresponding to the verties of the graph. Then, we generate a list of matrices which is generated after one step of evolution."
   ]
  },
  {
   "cell_type": "code",
   "execution_count": 15,
   "id": "a080ec3e",
   "metadata": {},
   "outputs": [],
   "source": [
    "def one_step_evolution(G, alpha, M):\n",
    "    n = G.order()\n",
    "    V = list(G.nodes())\n",
    "    Kdict = Kraus_dictionary(G)\n",
    "    L = [np.matrix(np.zeros((n , n)))]*n\n",
    "    if type(G) == nx.classes.graph.Graph:\n",
    "        G = G.to_directed()\n",
    "    for i in range(n):\n",
    "        u_0 = V[i]\n",
    "        E = []\n",
    "        E = list(G.in_edges(u_0)) + [(u_0, u_0)]\n",
    "        for e in E:\n",
    "            L[i] = L[i] + Kdict[e] * M[e[0]] * np.conjugate(Kdict[e]).transpose()\n",
    "    Dump = sum(M)\n",
    "    for i in range(n):\n",
    "        L[i] = alpha * L[i] + (1 - alpha) * Dump / n\n",
    "    return(L)"
   ]
  },
  {
   "cell_type": "markdown",
   "id": "5e65eccf",
   "metadata": {},
   "source": [
    "##### Find probability from matrices\n",
    "\n",
    "Let $M$ be a list of matrices. In a list we keep the trace of the matrices which are the probability of getting the walker at the corresponding vertices."
   ]
  },
  {
   "cell_type": "code",
   "execution_count": 11,
   "id": "144f3140",
   "metadata": {},
   "outputs": [],
   "source": [
    "def find_probability(M):\n",
    "    n = len(M)\n",
    "    P = []\n",
    "    for i in range(n):\n",
    "        P.append(np.around(np.trace(M[i]), 4))\n",
    "    return(P)"
   ]
  },
  {
   "cell_type": "markdown",
   "id": "b2041e3d",
   "metadata": {},
   "source": [
    "##### Q-rank\n",
    "\n",
    "Given a graph $G$ and a damping factor $\\alpha$ this program returns the Q-rank of the nodes of $G$."
   ]
  },
  {
   "cell_type": "code",
   "execution_count": 1,
   "id": "dc445800",
   "metadata": {},
   "outputs": [],
   "source": [
    "def q_rank(G, alpha):\n",
    "    n = G.order()\n",
    "    V = list(G.nodes())\n",
    "    Kdict = Kraus_dictionary(G)\n",
    "    IS = initial_state(G)\n",
    "    M = IS.copy()\n",
    "    P = []\n",
    "    P = find_probability(M)\n",
    "    Q = [1]*n\n",
    "    t = 1\n",
    "    while lin.norm(np.array(P) - np.array(Q)) >= .0001:\n",
    "        P = []\n",
    "        P = Q\n",
    "#         print(P)\n",
    "        L = one_step_evolution(G, .85, M)\n",
    "        Q = []\n",
    "        Q = find_probability(L)\n",
    "#         print(Q)\n",
    "        M = []\n",
    "        M = L.copy()\n",
    "        t = t + 1\n",
    "    dic = {}\n",
    "    for i in range(n):\n",
    "        dic[i] = np.around(Q[i])\n",
    "    return(dic, t)"
   ]
  },
  {
   "cell_type": "markdown",
   "id": "6d223d6e",
   "metadata": {},
   "source": [
    "#### Page rank"
   ]
  },
  {
   "cell_type": "markdown",
   "id": "65fa3a70",
   "metadata": {},
   "source": [
    "##### Google Matrix\n",
    "The Google matrix is defined by \n",
    "$$G = \\alpha S + (1 - \\alpha) e * e^t / n.$$\n",
    "Here $S$ is defined by \n",
    "$$S = H + a * (1/n) e^t,$$\n",
    "H is the adjacency matrix of directed graph, $e$ is all one column vector, and $a$ is a column vector whose $i$-th position is $1$ if $i$ is a dagling node otherwise $0$. Also, $\\alpha$ is a damping factor.\n",
    "\n",
    "For simplicity we first calculate the adjacency matrix of the diected graph. We divide the non-zero rows by the out-degree of the corresponding node. We replace the zero rows by the all one rows divided by $n$, where $n$ is the number of vertices. This is the $S$ matrix. The matrix $e * e^t$ is all one matrix of order $n$.\n",
    "\n",
    "In the program below:\n",
    "1. G = Given graph. If $G$ is not directed this program converts it to a directed graph with every edge have two orientations.\n",
    "2. alpha = Given damping factor\n",
    "3. n = number of vertices in $G$\n",
    "4. O = all one matrix of order $n$\n",
    "5. A = adjacency matrix of $G$\n",
    "6. H = all zero matrix of order $n$, which acts as the initial Google matrix. we replace its rows by the corresponding rows of the adjacency matrix after deviding by the vertex out degree. Therefore, $S = H$ after line 11.\n",
    "7. i is an index representing a row of the Google matrix, adjacency matrix, or a vertex in $G$"
   ]
  },
  {
   "cell_type": "code",
   "execution_count": 13,
   "id": "2a473385",
   "metadata": {},
   "outputs": [],
   "source": [
    "def Google_matrix(G, alpha):\n",
    "    n = G.order()\n",
    "    if type(G) == nx.classes.graph.Graph:\n",
    "        G = G.to_directed()\n",
    "    O = np.ones(n)\n",
    "    A = nx.adjacency_matrix(G).A\n",
    "    S = np.zeros((n, n))\n",
    "    for i in range(n):\n",
    "        if G.out_degree(i) != 0:\n",
    "            d = G.out_degree(i)\n",
    "            S[i] = A[i]/d\n",
    "        else:\n",
    "            S[i] = np.ones(n)/n\n",
    "    Google = alpha * S + (1 - alpha)*O/n\n",
    "    return(Google)"
   ]
  },
  {
   "cell_type": "markdown",
   "id": "6959f9f7",
   "metadata": {},
   "source": [
    "##### Page Rank\n",
    "\n",
    "Given a graph $G$ and a damping factor $\\alpha$, this program returns the page rank of the vertices and the number of steps required for convergence with error $.0001$. "
   ]
  },
  {
   "cell_type": "code",
   "execution_count": 1,
   "id": "13be8408",
   "metadata": {},
   "outputs": [],
   "source": [
    "def page_rank(G, alpha):\n",
    "    Google = np.matrix(Google_matrix(G, alpha))\n",
    "    n = G.order()\n",
    "    w = np.ones(n) / n\n",
    "    v = w*Google\n",
    "    t = 1\n",
    "    while np.linalg.norm(w - v) >= .0001:\n",
    "        w = v\n",
    "        v = w*Google\n",
    "        t = t + 1\n",
    "    dic = {}\n",
    "    v = np.array(v)[0]\n",
    "    for i in range(n):\n",
    "        dic[i] = np.around(v[i], 4)\n",
    "    return(dic, t)\n",
    "#     return(v)"
   ]
  },
  {
   "cell_type": "markdown",
   "id": "aba6dcf6",
   "metadata": {},
   "source": [
    "##### find ranks of vertices\n",
    "\n",
    "Given a dictionary $P$ whose keys are the vertices and values are the PageRank or qPageRank, this program returns the ranks of the vertices based on the PageRank or qPageRank whatever stored in $P$.\n",
    "\n",
    "L is a list of tauples with keys are values of dictionary $P$ which is sorted in an assending order based on the values. We construct a new distionary whose keys are the $0$-th element of the tauples in L, and the corresponding values are the index of this element in L. This index is the rank of the vertex. Then we sort the dictionary $R$ into another dictionary \"sorted_Ranks\" where we get the ranks of the vertices where the vertices are arranged in an assending order.  "
   ]
  },
  {
   "cell_type": "code",
   "execution_count": null,
   "id": "34ebd7a1",
   "metadata": {},
   "outputs": [],
   "source": [
    "def find_ranks_of_vertices(P):\n",
    "    L = sorted(P.items(), key=lambda x: x[1], reverse=True)\n",
    "    R = {}\n",
    "    for element in L:\n",
    "        R[element[0]] = L.index(element) + 1\n",
    "    sorted_Ranks = dict(sorted(R.items()))\n",
    "    return(sorted_Ranks)"
   ]
  },
  {
   "cell_type": "markdown",
   "id": "fc509cd9",
   "metadata": {},
   "source": [
    "## Examples"
   ]
  },
  {
   "cell_type": "code",
   "execution_count": 28,
   "id": "8561a8f3",
   "metadata": {
    "scrolled": false
   },
   "outputs": [
    {
     "data": {
      "image/png": "[encoded data removed]",
      "text/plain": [
       "<Figure size 640x480 with 1 Axes>"
      ]
     },
     "metadata": {},
     "output_type": "display_data"
    }
   ],
   "source": [
    "G=nx.DiGraph()\n",
    "V = [0, 1, 2, 3, 4, 5]\n",
    "E = [(0, 1), (0, 4), (1, 0), (2, 1), (2, 3), (3, 0), (4, 3), (5, 0)]\n",
    "G.add_nodes_from(V)\n",
    "G.add_edges_from(E)\n",
    "nx.draw_networkx(G)"
   ]
  },
  {
   "cell_type": "code",
   "execution_count": 18,
   "id": "58928efd",
   "metadata": {},
   "outputs": [
    {
     "name": "stderr",
     "output_type": "stream",
     "text": [
      "/tmp/ipykernel_432651/3656953428.py:4: FutureWarning: adjacency_matrix will return a scipy.sparse array instead of a matrix in Networkx 3.0.\n",
      "  A = nx.adjacency_matrix(G).A\n"
     ]
    },
    {
     "data": {
      "text/plain": [
       "{0: 0.37648774903470544,\n",
       " 1: 0.19563971512496053,\n",
       " 2: 0.025,\n",
       " 3: 0.1928578207153735,\n",
       " 4: 0.18501471512496048,\n",
       " 5: 0.025}"
      ]
     },
     "execution_count": 18,
     "metadata": {},
     "output_type": "execute_result"
    }
   ],
   "source": [
    "P, t = page_rank(G, .85)\n",
    "P"
   ]
  },
  {
   "cell_type": "code",
   "execution_count": 19,
   "id": "08a5252c",
   "metadata": {},
   "outputs": [
    {
     "data": {
      "text/plain": [
       "18"
      ]
     },
     "execution_count": 19,
     "metadata": {},
     "output_type": "execute_result"
    }
   ],
   "source": [
    "t"
   ]
  },
  {
   "cell_type": "code",
   "execution_count": 20,
   "id": "9bf51538",
   "metadata": {
    "scrolled": false
   },
   "outputs": [
    {
     "data": {
      "text/plain": [
       "{0: (0.3084-0j),\n",
       " 1: (0.2127-0j),\n",
       " 2: (0.0349-0j),\n",
       " 3: (0.2051+0j),\n",
       " 4: (0.1955-0j),\n",
       " 5: (0.0435-0j)}"
      ]
     },
     "execution_count": 20,
     "metadata": {},
     "output_type": "execute_result"
    }
   ],
   "source": [
    "Q, t = q_rank(G, .85)\n",
    "Q"
   ]
  },
  {
   "cell_type": "code",
   "execution_count": 22,
   "id": "c760be58",
   "metadata": {},
   "outputs": [
    {
     "data": {
      "text/plain": [
       "12"
      ]
     },
     "execution_count": 22,
     "metadata": {},
     "output_type": "execute_result"
    }
   ],
   "source": [
    "t"
   ]
  },
  {
   "cell_type": "code",
   "execution_count": 23,
   "id": "5c4900f7",
   "metadata": {},
   "outputs": [
    {
     "data": {
      "text/plain": [
       "array([0.37648775, 0.19563972, 0.025     , 0.19285782, 0.18501472,\n",
       "       0.025     ])"
      ]
     },
     "execution_count": 23,
     "metadata": {},
     "output_type": "execute_result"
    }
   ],
   "source": [
    "P1 = np.real(list(P.values()))\n",
    "P1"
   ]
  },
  {
   "cell_type": "code",
   "execution_count": 24,
   "id": "3252b05e",
   "metadata": {},
   "outputs": [
    {
     "data": {
      "text/plain": [
       "array([0.3084, 0.2127, 0.0349, 0.2051, 0.1955, 0.0435])"
      ]
     },
     "execution_count": 24,
     "metadata": {},
     "output_type": "execute_result"
    }
   ],
   "source": [
    "Q1 = np.real(list(Q.values()))\n",
    "Q1"
   ]
  },
  {
   "cell_type": "code",
   "execution_count": 25,
   "id": "18be699b",
   "metadata": {},
   "outputs": [
    {
     "data": {
      "text/plain": [
       "[0, 1, 2, 3, 4, 5]"
      ]
     },
     "execution_count": 25,
     "metadata": {},
     "output_type": "execute_result"
    }
   ],
   "source": [
    "X = list(G.nodes())\n",
    "X"
   ]
  },
  {
   "cell_type": "code",
   "execution_count": 26,
   "id": "283da9ed",
   "metadata": {},
   "outputs": [
    {
     "data": {
      "image/png": "[encoded data removed]",
      "text/plain": [
       "<Figure size 1200x600 with 1 Axes>"
      ]
     },
     "metadata": {},
     "output_type": "display_data"
    }
   ],
   "source": [
    "plt.figure(figsize=(12,6))\n",
    "X_axis = np.arange(len(X))\n",
    "plt.bar(X_axis - 0.2, P1, 0.4, label = 'QRank') \n",
    "plt.bar(X_axis + 0.2, Q1, 0.4, label = 'Pagerank')\n",
    "plt.xticks(X_axis, X) \n",
    "plt.legend() \n",
    "plt.show() "
   ]
  },
  {
   "cell_type": "code",
   "execution_count": null,
   "id": "96e3f9c0",
   "metadata": {},
   "outputs": [],
   "source": []
  }
 ],
 "metadata": {
  "kernelspec": {
   "display_name": "Python 3 (ipykernel)",
   "language": "python",
   "name": "python3"
  },
  "language_info": {
   "codemirror_mode": {
    "name": "ipython",
    "version": 3
   },
   "file_extension": ".py",
   "mimetype": "text/x-python",
   "name": "python",
   "nbconvert_exporter": "python",
   "pygments_lexer": "ipython3",
   "version": "3.9.12"
  },
  "toc": {
   "base_numbering": 1,
   "nav_menu": {},
   "number_sections": true,
   "sideBar": true,
   "skip_h1_title": false,
   "title_cell": "Table of Contents",
   "title_sidebar": "Contents",
   "toc_cell": false,
   "toc_position": {},
   "toc_section_display": true,
   "toc_window_display": false
  }
 },
 "nbformat": 4,
 "nbformat_minor": 5
}
